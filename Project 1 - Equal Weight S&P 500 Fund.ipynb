{
 "cells": [
  {
   "cell_type": "markdown",
   "id": "7670c59b",
   "metadata": {},
   "source": [
    "# Importing basic libraries"
   ]
  },
  {
   "cell_type": "code",
   "execution_count": 1,
   "id": "1ac69d71",
   "metadata": {},
   "outputs": [],
   "source": [
    "import numpy as np                          #function is now called np\n",
    "import pandas as pd                         #function is now called pd \n",
    "import requests                             #makes http requests\n",
    "import xlsxwriter                           #creates excel report\n",
    "import math                                 #executes operations"
   ]
  },
  {
   "cell_type": "markdown",
   "id": "a0a7f4ea",
   "metadata": {},
   "source": [
    "# Importing List of Stock"
   ]
  },
  {
   "cell_type": "markdown",
   "id": "94209ee3",
   "metadata": {},
   "source": [
    "In real life you will use API to get price data.\n",
    "Here we use a sample CSV file of S&P500 stocks"
   ]
  },
  {
   "cell_type": "markdown",
   "id": "fe124ba7",
   "metadata": {},
   "source": [
    "S&P 500 data is in 'starter-files' folder "
   ]
  },
  {
   "cell_type": "code",
   "execution_count": 2,
   "id": "277bf04d",
   "metadata": {},
   "outputs": [],
   "source": [
    "stocks = pd.read_csv(r\"C:\\Users\\nik10\\iCloudDrive\\Documents\\Python Trading Robot\\Project 1 - Equal Weight Index Fund\\starter_files\\sp_500_stocks.csv\")"
   ]
  },
  {
   "cell_type": "markdown",
   "id": "d606967e",
   "metadata": {},
   "source": [
    "# Acquiring an API Token"
   ]
  },
  {
   "cell_type": "markdown",
   "id": "72fd9807",
   "metadata": {},
   "source": [
    "API token is the data provider to be used - token should be stored in secrets.py"
   ]
  },
  {
   "cell_type": "code",
   "execution_count": 3,
   "id": "3085e10b",
   "metadata": {},
   "outputs": [],
   "source": [
    "from secrets import IEX_CLOUD_API_TOKEN"
   ]
  },
  {
   "cell_type": "markdown",
   "id": "1d626b4b",
   "metadata": {},
   "source": [
    "# Making Our First API CALL"
   ]
  },
  {
   "cell_type": "markdown",
   "id": "e7095648",
   "metadata": {},
   "source": [
    "Info needed \n",
    "* Market cap of each stock\n",
    "* Price of each stock\n",
    "\n",
    "IEX Cloud api is used to get data - https://iexcloud.io/docs/api/ "
   ]
  },
  {
   "cell_type": "code",
   "execution_count": 4,
   "id": "4eab95fc",
   "metadata": {},
   "outputs": [],
   "source": [
    "symbol = 'AAPL'\n",
    "api_url = f'https://sandbox.iexapis.com/stable/stock/{symbol}/quote/?token={IEX_CLOUD_API_TOKEN}' \n",
    "#base url is used to initiate https request - found in API Reference\n",
    "\n",
    "data = requests.get(api_url).json()\n",
    "#use request library for http requests, use json to get accessible data format for 'data' - in this case dictionary\n",
    "#       print(data)"
   ]
  },
  {
   "cell_type": "markdown",
   "id": "9abcaa26",
   "metadata": {},
   "source": [
    "# Parsing Our API CAll\n",
    "Previous API call contains all info needed for S&P 500 Strategy\n",
    "\n",
    "Parsing - convert data into a proper format"
   ]
  },
  {
   "cell_type": "code",
   "execution_count": 5,
   "id": "c36dc095",
   "metadata": {},
   "outputs": [],
   "source": [
    "price = data['latestPrice']\n",
    "market_cap = data['marketCap']"
   ]
  },
  {
   "cell_type": "markdown",
   "id": "a6abeffc",
   "metadata": {},
   "source": [
    "# Adding Stock Market Data to a Pandas DataFrame\n",
    "We want to create a spreadsheet that will store the stock price and market cap"
   ]
  },
  {
   "cell_type": "code",
   "execution_count": 6,
   "id": "f313a17e",
   "metadata": {},
   "outputs": [
    {
     "data": {
      "text/html": [
       "<div>\n",
       "<style scoped>\n",
       "    .dataframe tbody tr th:only-of-type {\n",
       "        vertical-align: middle;\n",
       "    }\n",
       "\n",
       "    .dataframe tbody tr th {\n",
       "        vertical-align: top;\n",
       "    }\n",
       "\n",
       "    .dataframe thead th {\n",
       "        text-align: right;\n",
       "    }\n",
       "</style>\n",
       "<table border=\"1\" class=\"dataframe\">\n",
       "  <thead>\n",
       "    <tr style=\"text-align: right;\">\n",
       "      <th></th>\n",
       "      <th>Ticker</th>\n",
       "      <th>Stock Price</th>\n",
       "      <th>Market Capitalization</th>\n",
       "      <th>Number of Shares to Buy</th>\n",
       "    </tr>\n",
       "  </thead>\n",
       "  <tbody>\n",
       "  </tbody>\n",
       "</table>\n",
       "</div>"
      ],
      "text/plain": [
       "Empty DataFrame\n",
       "Columns: [Ticker, Stock Price, Market Capitalization, Number of Shares to Buy]\n",
       "Index: []"
      ]
     },
     "execution_count": 6,
     "metadata": {},
     "output_type": "execute_result"
    }
   ],
   "source": [
    "my_columns = ['Ticker', 'Stock Price', 'Market Capitalization', 'Number of Shares to Buy'] \n",
    "# Declaring the columns for data frame\n",
    "\n",
    "final_dataframe = pd.DataFrame(columns=my_columns)\n",
    "final_dataframe"
   ]
  },
  {
   "cell_type": "code",
   "execution_count": 7,
   "id": "904f9046",
   "metadata": {},
   "outputs": [
    {
     "data": {
      "text/html": [
       "<div>\n",
       "<style scoped>\n",
       "    .dataframe tbody tr th:only-of-type {\n",
       "        vertical-align: middle;\n",
       "    }\n",
       "\n",
       "    .dataframe tbody tr th {\n",
       "        vertical-align: top;\n",
       "    }\n",
       "\n",
       "    .dataframe thead th {\n",
       "        text-align: right;\n",
       "    }\n",
       "</style>\n",
       "<table border=\"1\" class=\"dataframe\">\n",
       "  <thead>\n",
       "    <tr style=\"text-align: right;\">\n",
       "      <th></th>\n",
       "      <th>Ticker</th>\n",
       "      <th>Stock Price</th>\n",
       "      <th>Market Capitalization</th>\n",
       "      <th>Number of Shares to Buy</th>\n",
       "    </tr>\n",
       "  </thead>\n",
       "  <tbody>\n",
       "    <tr>\n",
       "      <th>0</th>\n",
       "      <td>AAPL</td>\n",
       "      <td>151.8</td>\n",
       "      <td>2514494114449</td>\n",
       "      <td>N/A</td>\n",
       "    </tr>\n",
       "  </tbody>\n",
       "</table>\n",
       "</div>"
      ],
      "text/plain": [
       "  Ticker  Stock Price Market Capitalization Number of Shares to Buy\n",
       "0   AAPL        151.8         2514494114449                     N/A"
      ]
     },
     "execution_count": 7,
     "metadata": {},
     "output_type": "execute_result"
    }
   ],
   "source": [
    "final_dataframe.append(\n",
    "    pd.Series(\n",
    "    [\n",
    "        symbol,\n",
    "        price,\n",
    "        market_cap,\n",
    "        'N/A'\n",
    "    ],\n",
    "    index = my_columns\n",
    "    ),\n",
    "    \n",
    "    ignore_index=True\n",
    ")"
   ]
  },
  {
   "cell_type": "markdown",
   "id": "e02260ca",
   "metadata": {},
   "source": [
    "# Creating a loop that goes through a list of stocks\n",
    "\n",
    "We pull data for all S&P 500 stocks and store the data in the DataFrame using `for` loop"
   ]
  },
  {
   "cell_type": "code",
   "execution_count": 8,
   "id": "f71631e6",
   "metadata": {},
   "outputs": [],
   "source": [
    "final_dataframe = pd.DataFrame(columns = my_columns)\n",
    "for stock in stocks['Ticker'][:10]:\n",
    "    #create api call for each cell - very slow as makes a http request for each stock (to be optimised)\n",
    "    api_url = f'https://sandbox.iexapis.com/stable/stock/{stock}/quote/?token={IEX_CLOUD_API_TOKEN}'\n",
    "    data = requests.get(api_url).json()\n",
    "    final_dataframe = final_dataframe.append(\n",
    "        pd.Series(\n",
    "        [\n",
    "            stock,\n",
    "            data['latestPrice'],\n",
    "            data['marketCap'],\n",
    "            'N/A'\n",
    "        ],\n",
    "        index = my_columns),\n",
    "    ignore_index = True    \n",
    "    )"
   ]
  },
  {
   "cell_type": "code",
   "execution_count": 9,
   "id": "d32adc0a",
   "metadata": {},
   "outputs": [
    {
     "data": {
      "text/html": [
       "<div>\n",
       "<style scoped>\n",
       "    .dataframe tbody tr th:only-of-type {\n",
       "        vertical-align: middle;\n",
       "    }\n",
       "\n",
       "    .dataframe tbody tr th {\n",
       "        vertical-align: top;\n",
       "    }\n",
       "\n",
       "    .dataframe thead th {\n",
       "        text-align: right;\n",
       "    }\n",
       "</style>\n",
       "<table border=\"1\" class=\"dataframe\">\n",
       "  <thead>\n",
       "    <tr style=\"text-align: right;\">\n",
       "      <th></th>\n",
       "      <th>Ticker</th>\n",
       "      <th>Stock Price</th>\n",
       "      <th>Market Capitalization</th>\n",
       "      <th>Number of Shares to Buy</th>\n",
       "    </tr>\n",
       "  </thead>\n",
       "  <tbody>\n",
       "    <tr>\n",
       "      <th>0</th>\n",
       "      <td>A</td>\n",
       "      <td>169.41</td>\n",
       "      <td>51372739891</td>\n",
       "      <td>N/A</td>\n",
       "    </tr>\n",
       "    <tr>\n",
       "      <th>1</th>\n",
       "      <td>AAL</td>\n",
       "      <td>18.83</td>\n",
       "      <td>12518024215</td>\n",
       "      <td>N/A</td>\n",
       "    </tr>\n",
       "    <tr>\n",
       "      <th>2</th>\n",
       "      <td>AAP</td>\n",
       "      <td>212.52</td>\n",
       "      <td>14258636870</td>\n",
       "      <td>N/A</td>\n",
       "    </tr>\n",
       "    <tr>\n",
       "      <th>3</th>\n",
       "      <td>AAPL</td>\n",
       "      <td>147.40</td>\n",
       "      <td>2521778349350</td>\n",
       "      <td>N/A</td>\n",
       "    </tr>\n",
       "    <tr>\n",
       "      <th>4</th>\n",
       "      <td>ABBV</td>\n",
       "      <td>121.35</td>\n",
       "      <td>212868446258</td>\n",
       "      <td>N/A</td>\n",
       "    </tr>\n",
       "    <tr>\n",
       "      <th>5</th>\n",
       "      <td>ABC</td>\n",
       "      <td>120.50</td>\n",
       "      <td>24992065928</td>\n",
       "      <td>N/A</td>\n",
       "    </tr>\n",
       "    <tr>\n",
       "      <th>6</th>\n",
       "      <td>ABMD</td>\n",
       "      <td>334.80</td>\n",
       "      <td>15254127900</td>\n",
       "      <td>N/A</td>\n",
       "    </tr>\n",
       "    <tr>\n",
       "      <th>7</th>\n",
       "      <td>ABT</td>\n",
       "      <td>128.09</td>\n",
       "      <td>233309084771</td>\n",
       "      <td>N/A</td>\n",
       "    </tr>\n",
       "    <tr>\n",
       "      <th>8</th>\n",
       "      <td>ACN</td>\n",
       "      <td>332.97</td>\n",
       "      <td>225555267284</td>\n",
       "      <td>N/A</td>\n",
       "    </tr>\n",
       "    <tr>\n",
       "      <th>9</th>\n",
       "      <td>ADBE</td>\n",
       "      <td>642.05</td>\n",
       "      <td>318121938556</td>\n",
       "      <td>N/A</td>\n",
       "    </tr>\n",
       "  </tbody>\n",
       "</table>\n",
       "</div>"
      ],
      "text/plain": [
       "  Ticker  Stock Price Market Capitalization Number of Shares to Buy\n",
       "0      A       169.41           51372739891                     N/A\n",
       "1    AAL        18.83           12518024215                     N/A\n",
       "2    AAP       212.52           14258636870                     N/A\n",
       "3   AAPL       147.40         2521778349350                     N/A\n",
       "4   ABBV       121.35          212868446258                     N/A\n",
       "5    ABC       120.50           24992065928                     N/A\n",
       "6   ABMD       334.80           15254127900                     N/A\n",
       "7    ABT       128.09          233309084771                     N/A\n",
       "8    ACN       332.97          225555267284                     N/A\n",
       "9   ADBE       642.05          318121938556                     N/A"
      ]
     },
     "execution_count": 9,
     "metadata": {},
     "output_type": "execute_result"
    }
   ],
   "source": [
    "final_dataframe"
   ]
  },
  {
   "cell_type": "markdown",
   "id": "d991f6ba",
   "metadata": {},
   "source": [
    "# Using Batch API Calls to Improve Perfomance\n",
    "\n",
    "API providers will give discounts for using batch API\n",
    "IEX cloud has 100 tickets limit per request - we split stocks into groups of 100 to make a call"
   ]
  },
  {
   "cell_type": "markdown",
   "id": "2f024f45",
   "metadata": {},
   "source": [
    "We want to split a list into sublists"
   ]
  },
  {
   "cell_type": "code",
   "execution_count": 10,
   "id": "f7609c19",
   "metadata": {},
   "outputs": [],
   "source": [
    "def chunks(lst, n):\n",
    "    \"\"\"Yield successive n-sized chunks from lst.\"\"\"\n",
    "    for i in range(0, len(lst), n):\n",
    "        yield lst[i:i + n]\n",
    "# https://stackoverflow.com/questions/312443/how-do-you-split-a-list-into-evenly-sized-chunks"
   ]
  },
  {
   "cell_type": "markdown",
   "id": "e96768bc",
   "metadata": {},
   "source": [
    "Arrange tickers into 5 groups of 5 strings"
   ]
  },
  {
   "cell_type": "code",
   "execution_count": 11,
   "id": "db3e8b55",
   "metadata": {
    "scrolled": true
   },
   "outputs": [
    {
     "data": {
      "text/html": [
       "<div>\n",
       "<style scoped>\n",
       "    .dataframe tbody tr th:only-of-type {\n",
       "        vertical-align: middle;\n",
       "    }\n",
       "\n",
       "    .dataframe tbody tr th {\n",
       "        vertical-align: top;\n",
       "    }\n",
       "\n",
       "    .dataframe thead th {\n",
       "        text-align: right;\n",
       "    }\n",
       "</style>\n",
       "<table border=\"1\" class=\"dataframe\">\n",
       "  <thead>\n",
       "    <tr style=\"text-align: right;\">\n",
       "      <th></th>\n",
       "      <th>Ticker</th>\n",
       "      <th>Stock Price</th>\n",
       "      <th>Market Capitalization</th>\n",
       "      <th>Number of Shares to Buy</th>\n",
       "    </tr>\n",
       "  </thead>\n",
       "  <tbody>\n",
       "    <tr>\n",
       "      <th>0</th>\n",
       "      <td>A</td>\n",
       "      <td>172.85</td>\n",
       "      <td>52130699370</td>\n",
       "      <td>N/A</td>\n",
       "    </tr>\n",
       "    <tr>\n",
       "      <th>1</th>\n",
       "      <td>AAL</td>\n",
       "      <td>19.48</td>\n",
       "      <td>12452343382</td>\n",
       "      <td>N/A</td>\n",
       "    </tr>\n",
       "    <tr>\n",
       "      <th>2</th>\n",
       "      <td>AAP</td>\n",
       "      <td>217.26</td>\n",
       "      <td>13754436422</td>\n",
       "      <td>N/A</td>\n",
       "    </tr>\n",
       "    <tr>\n",
       "      <th>3</th>\n",
       "      <td>AAPL</td>\n",
       "      <td>148.50</td>\n",
       "      <td>2430944632310</td>\n",
       "      <td>N/A</td>\n",
       "    </tr>\n",
       "    <tr>\n",
       "      <th>4</th>\n",
       "      <td>ABBV</td>\n",
       "      <td>120.74</td>\n",
       "      <td>209457922920</td>\n",
       "      <td>N/A</td>\n",
       "    </tr>\n",
       "    <tr>\n",
       "      <th>...</th>\n",
       "      <td>...</td>\n",
       "      <td>...</td>\n",
       "      <td>...</td>\n",
       "      <td>...</td>\n",
       "    </tr>\n",
       "    <tr>\n",
       "      <th>500</th>\n",
       "      <td>YUM</td>\n",
       "      <td>140.56</td>\n",
       "      <td>40645542581</td>\n",
       "      <td>N/A</td>\n",
       "    </tr>\n",
       "    <tr>\n",
       "      <th>501</th>\n",
       "      <td>ZBH</td>\n",
       "      <td>146.17</td>\n",
       "      <td>31399222779</td>\n",
       "      <td>N/A</td>\n",
       "    </tr>\n",
       "    <tr>\n",
       "      <th>502</th>\n",
       "      <td>ZBRA</td>\n",
       "      <td>567.64</td>\n",
       "      <td>30723645350</td>\n",
       "      <td>N/A</td>\n",
       "    </tr>\n",
       "    <tr>\n",
       "      <th>503</th>\n",
       "      <td>ZION</td>\n",
       "      <td>54.98</td>\n",
       "      <td>8700645882</td>\n",
       "      <td>N/A</td>\n",
       "    </tr>\n",
       "    <tr>\n",
       "      <th>504</th>\n",
       "      <td>ZTS</td>\n",
       "      <td>213.45</td>\n",
       "      <td>100201789600</td>\n",
       "      <td>N/A</td>\n",
       "    </tr>\n",
       "  </tbody>\n",
       "</table>\n",
       "<p>505 rows × 4 columns</p>\n",
       "</div>"
      ],
      "text/plain": [
       "    Ticker  Stock Price Market Capitalization Number of Shares to Buy\n",
       "0        A       172.85           52130699370                     N/A\n",
       "1      AAL        19.48           12452343382                     N/A\n",
       "2      AAP       217.26           13754436422                     N/A\n",
       "3     AAPL       148.50         2430944632310                     N/A\n",
       "4     ABBV       120.74          209457922920                     N/A\n",
       "..     ...          ...                   ...                     ...\n",
       "500    YUM       140.56           40645542581                     N/A\n",
       "501    ZBH       146.17           31399222779                     N/A\n",
       "502   ZBRA       567.64           30723645350                     N/A\n",
       "503   ZION        54.98            8700645882                     N/A\n",
       "504    ZTS       213.45          100201789600                     N/A\n",
       "\n",
       "[505 rows x 4 columns]"
      ]
     },
     "execution_count": 11,
     "metadata": {},
     "output_type": "execute_result"
    }
   ],
   "source": [
    "symbol_groups = list(chunks(stocks['Ticker'], 100))\n",
    "symbol_strings = []\n",
    "for i in range(0, len(symbol_groups)):\n",
    "    symbol_strings.append(','.join(symbol_groups[i]))\n",
    "#    print(symbol_strings[i])\n",
    "final_dataframe = pd.DataFrame(columns = my_columns)\n",
    "\n",
    "for symbol_string in symbol_strings:\n",
    "    batch_api_call_url = f'https://sandbox.iexapis.com/stable/stock/market/batch/?types=quote&symbols={symbol_string}&token={IEX_CLOUD_API_TOKEN}'\n",
    "#    print(batch_api_call_url)\n",
    "    data = requests.get(batch_api_call_url).json()\n",
    "    #use split method to undo join\n",
    "    for symbol in symbol_string.split(','):\n",
    "#        print (symbol)\n",
    "        final_dataframe = final_dataframe.append(\n",
    "        pd.Series(\n",
    "        [\n",
    "            symbol,\n",
    "            data[symbol]['quote']['latestPrice'],\n",
    "            data[symbol]['quote']['marketCap'],\n",
    "            'N/A'\n",
    "        ],\n",
    "        index = my_columns),\n",
    "    ignore_index = True    \n",
    "    )\n",
    "final_dataframe\n",
    "#1:09:56"
   ]
  },
  {
   "cell_type": "markdown",
   "id": "cb2c4d97",
   "metadata": {},
   "source": [
    "# Calculating the number of shares to buy\n",
    "This part creates a field where we enter the size of our portfolio - easy to adapt for other portfolios"
   ]
  },
  {
   "cell_type": "code",
   "execution_count": 12,
   "id": "f458bf94",
   "metadata": {},
   "outputs": [
    {
     "name": "stdout",
     "output_type": "stream",
     "text": [
      "Enter the value of your portfolio:10000\n"
     ]
    }
   ],
   "source": [
    "portfolio_size = input('Enter the value of your portfolio:')\n",
    "\n",
    "try:\n",
    "    val = float(portfolio_size)\n",
    "    #forces portfolio_size variable to become float\n",
    "#    print (val)\n",
    "except ValueError:\n",
    "    print('Only numerical characters are allowed! \\nPlease try again:')\n",
    "    portfolio_size = input('Enter the value of your portfolio:')\n",
    "    val = float(portfolio_size)"
   ]
  },
  {
   "cell_type": "code",
   "execution_count": 13,
   "id": "046daddb",
   "metadata": {},
   "outputs": [
    {
     "data": {
      "text/html": [
       "<div>\n",
       "<style scoped>\n",
       "    .dataframe tbody tr th:only-of-type {\n",
       "        vertical-align: middle;\n",
       "    }\n",
       "\n",
       "    .dataframe tbody tr th {\n",
       "        vertical-align: top;\n",
       "    }\n",
       "\n",
       "    .dataframe thead th {\n",
       "        text-align: right;\n",
       "    }\n",
       "</style>\n",
       "<table border=\"1\" class=\"dataframe\">\n",
       "  <thead>\n",
       "    <tr style=\"text-align: right;\">\n",
       "      <th></th>\n",
       "      <th>Ticker</th>\n",
       "      <th>Stock Price</th>\n",
       "      <th>Market Capitalization</th>\n",
       "      <th>Number of Shares to Buy</th>\n",
       "    </tr>\n",
       "  </thead>\n",
       "  <tbody>\n",
       "    <tr>\n",
       "      <th>0</th>\n",
       "      <td>A</td>\n",
       "      <td>172.85</td>\n",
       "      <td>52130699370</td>\n",
       "      <td>0</td>\n",
       "    </tr>\n",
       "    <tr>\n",
       "      <th>1</th>\n",
       "      <td>AAL</td>\n",
       "      <td>19.48</td>\n",
       "      <td>12452343382</td>\n",
       "      <td>1</td>\n",
       "    </tr>\n",
       "    <tr>\n",
       "      <th>2</th>\n",
       "      <td>AAP</td>\n",
       "      <td>217.26</td>\n",
       "      <td>13754436422</td>\n",
       "      <td>0</td>\n",
       "    </tr>\n",
       "    <tr>\n",
       "      <th>3</th>\n",
       "      <td>AAPL</td>\n",
       "      <td>148.50</td>\n",
       "      <td>2430944632310</td>\n",
       "      <td>0</td>\n",
       "    </tr>\n",
       "    <tr>\n",
       "      <th>4</th>\n",
       "      <td>ABBV</td>\n",
       "      <td>120.74</td>\n",
       "      <td>209457922920</td>\n",
       "      <td>0</td>\n",
       "    </tr>\n",
       "    <tr>\n",
       "      <th>...</th>\n",
       "      <td>...</td>\n",
       "      <td>...</td>\n",
       "      <td>...</td>\n",
       "      <td>...</td>\n",
       "    </tr>\n",
       "    <tr>\n",
       "      <th>500</th>\n",
       "      <td>YUM</td>\n",
       "      <td>140.56</td>\n",
       "      <td>40645542581</td>\n",
       "      <td>0</td>\n",
       "    </tr>\n",
       "    <tr>\n",
       "      <th>501</th>\n",
       "      <td>ZBH</td>\n",
       "      <td>146.17</td>\n",
       "      <td>31399222779</td>\n",
       "      <td>0</td>\n",
       "    </tr>\n",
       "    <tr>\n",
       "      <th>502</th>\n",
       "      <td>ZBRA</td>\n",
       "      <td>567.64</td>\n",
       "      <td>30723645350</td>\n",
       "      <td>0</td>\n",
       "    </tr>\n",
       "    <tr>\n",
       "      <th>503</th>\n",
       "      <td>ZION</td>\n",
       "      <td>54.98</td>\n",
       "      <td>8700645882</td>\n",
       "      <td>0</td>\n",
       "    </tr>\n",
       "    <tr>\n",
       "      <th>504</th>\n",
       "      <td>ZTS</td>\n",
       "      <td>213.45</td>\n",
       "      <td>100201789600</td>\n",
       "      <td>0</td>\n",
       "    </tr>\n",
       "  </tbody>\n",
       "</table>\n",
       "<p>505 rows × 4 columns</p>\n",
       "</div>"
      ],
      "text/plain": [
       "    Ticker  Stock Price Market Capitalization Number of Shares to Buy\n",
       "0        A       172.85           52130699370                       0\n",
       "1      AAL        19.48           12452343382                       1\n",
       "2      AAP       217.26           13754436422                       0\n",
       "3     AAPL       148.50         2430944632310                       0\n",
       "4     ABBV       120.74          209457922920                       0\n",
       "..     ...          ...                   ...                     ...\n",
       "500    YUM       140.56           40645542581                       0\n",
       "501    ZBH       146.17           31399222779                       0\n",
       "502   ZBRA       567.64           30723645350                       0\n",
       "503   ZION        54.98            8700645882                       0\n",
       "504    ZTS       213.45          100201789600                       0\n",
       "\n",
       "[505 rows x 4 columns]"
      ]
     },
     "execution_count": 13,
     "metadata": {},
     "output_type": "execute_result"
    }
   ],
   "source": [
    "#portfolio_size\n",
    "#output is a string\n",
    "position_size = val/len(final_dataframe.index)\n",
    "#   print(position_size)\n",
    "#shows how much money should be invested in each stock\n",
    "\n",
    "for i in range(0, len(final_dataframe.index)):\n",
    "    final_dataframe.loc[i, 'Number of Shares to Buy'] = math.floor(position_size/final_dataframe.loc[i, 'Stock Price'])\n",
    "\n",
    "final_dataframe\n",
    "#    print(math.floor(number_of_apple_shares)) #rounds down each position size\n"
   ]
  },
  {
   "cell_type": "markdown",
   "id": "cafb7e3b",
   "metadata": {},
   "source": [
    "# Creating format will export `.xlsx` file\n",
    "XlsxWriter library will create Excel file"
   ]
  },
  {
   "cell_type": "code",
   "execution_count": 14,
   "id": "fbbe8ee6",
   "metadata": {},
   "outputs": [],
   "source": [
    "writer = pd.ExcelWriter('recommended trades.xlsx', engine = 'xlsxwriter')\n",
    "# Pandas recognise Excel Writer\n",
    "\n",
    "final_dataframe.to_excel(writer, 'Recommended Trades', index = False)"
   ]
  },
  {
   "cell_type": "markdown",
   "id": "a4308af7",
   "metadata": {},
   "source": [
    "# Creating the format We'll Need For Our `.xlsx` File\n",
    "Formats include colours, fonts, symbols. Main formats needed:\n",
    "\n",
    "* String format for tickers\n",
    "* \\$ XX.XX format for stock prices\n",
    "* \\$ XX.XXX format for market capitalization\n",
    "* Integer format for the number of shares to buy"
   ]
  },
  {
   "cell_type": "code",
   "execution_count": 15,
   "id": "e74f97cf",
   "metadata": {},
   "outputs": [],
   "source": [
    "background_color = '#0a0a23'\n",
    "font_color = '#ffffff'\n",
    "\n",
    "string_format = writer.book.add_format(\n",
    "    {\n",
    "        'font_color' : font_color,\n",
    "        'bg_color' : background_color,\n",
    "        'border' : 1\n",
    "    }\n",
    ")\n",
    "\n",
    "dollar_format = writer.book.add_format(\n",
    "    {\n",
    "        'num_format' : '$0.00',\n",
    "        'font_color' : font_color,\n",
    "        'bg_color' : background_color,\n",
    "        'border' : 1\n",
    "    }\n",
    ")\n",
    "\n",
    "integer_format = writer.book.add_format(\n",
    "    {\n",
    "        'num_format' : '0',\n",
    "        'font_color' : font_color,\n",
    "        'bg_color' : background_color,\n",
    "        'border' : 1\n",
    "    }\n",
    ")"
   ]
  },
  {
   "cell_type": "markdown",
   "id": "dc04a964",
   "metadata": {},
   "source": [
    "# Applying the Formats to the Columns of Our `.xlsx` File\n",
    "\n",
    "Use `set_column` method applied to the `writer.book` object to apply formats to specific columns of our spreadsheets."
   ]
  },
  {
   "cell_type": "code",
   "execution_count": 16,
   "id": "e6523706",
   "metadata": {},
   "outputs": [],
   "source": [
    "# writer.sheets['Recommended Trades'].set_column('A:A', 18, string_format)\n",
    "# writer.sheets['Recommended Trades'].set_column('B:B', 18, string_format)\n",
    "# writer.sheets['Recommended Trades'].set_column('C:C', 18, string_format)\n",
    "# writer.sheets['Recommended Trades'].set_column('D:D', 18, string_format)\n",
    "# writer.save()\n",
    "# #Ticker column\n",
    "\n",
    "# writer.sheets['Recommended Trades'].write('A1','Ticker', string_format)\n",
    "# writer.sheets['Recommended Trades'].write('B1','Stock Price', dollar_format)\n",
    "# writer.sheets['Recommended Trades'].write('C1','Market Capitalization', dollar_format)\n",
    "# writer.sheets['Recommended Trades'].write('D1','Number of Shares to Buy', integer_format)\n"
   ]
  },
  {
   "cell_type": "markdown",
   "id": "175d5dc0",
   "metadata": {},
   "source": [
    "Simplify by using loops"
   ]
  },
  {
   "cell_type": "code",
   "execution_count": 17,
   "id": "e2161643",
   "metadata": {},
   "outputs": [],
   "source": [
    "column_formats = {\n",
    "    'A': ['Ticker', string_format],\n",
    "    'B': ['Stock Price', dollar_format],\n",
    "    'C': ['Market Capitalization', dollar_format],\n",
    "    'D': ['Number of Shares to Buy', integer_format]\n",
    "}\n",
    "\n",
    "for column in column_formats.keys():\n",
    "    writer.sheets['Recommended Trades'].set_column(f'{column}:{column}', 18, column_formats[column][1])\n",
    "    writer.sheets['Recommended Trades'].write(f'{column}1',column_formats[column][0], column_formats[column][1])"
   ]
  },
  {
   "cell_type": "markdown",
   "id": "f9c837ac",
   "metadata": {},
   "source": [
    "# Saving our Excel file\n"
   ]
  },
  {
   "cell_type": "code",
   "execution_count": 18,
   "id": "ee104352",
   "metadata": {},
   "outputs": [],
   "source": [
    "writer.save()  \n",
    "#1:38:43"
   ]
  }
 ],
 "metadata": {
  "kernelspec": {
   "display_name": "Python 3",
   "language": "python",
   "name": "python3"
  },
  "language_info": {
   "codemirror_mode": {
    "name": "ipython",
    "version": 3
   },
   "file_extension": ".py",
   "mimetype": "text/x-python",
   "name": "python",
   "nbconvert_exporter": "python",
   "pygments_lexer": "ipython3",
   "version": "3.8.8"
  }
 },
 "nbformat": 4,
 "nbformat_minor": 5
}
